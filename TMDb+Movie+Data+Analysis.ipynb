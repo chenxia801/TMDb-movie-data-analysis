{
 "cells": [
  {
   "cell_type": "markdown",
   "metadata": {},
   "source": [
    "\n",
    "\n",
    "# Project: TMDb Movie Data Analysis\n",
    "\n",
    "## Table of Contents\n",
    "<ul>\n",
    "<li><a href=\"#intro\">Introduction</a></li>\n",
    "<li><a href=\"#wrangling\">Data Wrangling</a></li>\n",
    "<li><a href=\"#eda\">Exploratory Data Analysis</a></li>\n",
    "<li><a href=\"#conclusions\">Conclusions</a></li>\n",
    "</ul>"
   ]
  },
  {
   "cell_type": "markdown",
   "metadata": {},
   "source": [
    "<a id='intro'></a>\n",
    "## Introduction\n",
    "\n",
    ">  A commercially successful movie not only entertains audience, but also brings tremendous profit to movie companies. \n",
    "In this project, we are going to explore a dataset from Kaggle website, which contains about 10000 movies collected from The Movie Database(TMDb), spanning across 56 years with 21 variables such as user popularity, ratings, budget, and revenue.\n",
    "\n",
    "  > Question that can be analyzed from this data set include:\n",
    "  Part1: Find the quantitative features that are associated with Successful Movies\n",
    "  Question 1. What features are associated with the popularity?\n",
    "  Question 2. What features are associated with voting score?\n",
    "  Part 2: Find the categorical features that are associated with Successful Movies\n",
    "  Question 1. What movie types receive higher rating?\n",
    "  Question 2. What movie types are more profit?\n",
    "  Question 3. Who are the most popular cast, directors?\n",
    "  Question 4. Are movies casted by top cast more popular?\n",
    "  "
   ]
  },
  {
   "cell_type": "code",
   "execution_count": 9,
   "metadata": {
    "collapsed": true
   },
   "outputs": [],
   "source": [
    "# To investigate the data, we need to import the following packages:\n",
    "import pandas as pd\n",
    "import matplotlib.pyplot as plt\n",
    "import numpy as np\n",
    "% matplotlib inline\n",
    "df=pd.read_csv('tmdb-movies.csv',encoding='cp1252')\n",
    "\n",
    "\n"
   ]
  },
  {
   "cell_type": "markdown",
   "metadata": {},
   "source": [
    "<a id='wrangling'></a>\n",
    "## Data Wrangling\n",
    "> In this section of the report,I will load in the data, check for cleanliness, and then trim and clean the dataset for analysis. \n",
    "\n",
    "### General Properties"
   ]
  },
  {
   "cell_type": "code",
   "execution_count": 10,
   "metadata": {},
   "outputs": [
    {
     "data": {
      "text/html": [
       "<div>\n",
       "<style scoped>\n",
       "    .dataframe tbody tr th:only-of-type {\n",
       "        vertical-align: middle;\n",
       "    }\n",
       "\n",
       "    .dataframe tbody tr th {\n",
       "        vertical-align: top;\n",
       "    }\n",
       "\n",
       "    .dataframe thead th {\n",
       "        text-align: right;\n",
       "    }\n",
       "</style>\n",
       "<table border=\"1\" class=\"dataframe\">\n",
       "  <thead>\n",
       "    <tr style=\"text-align: right;\">\n",
       "      <th></th>\n",
       "      <th>id</th>\n",
       "      <th>imdb_id</th>\n",
       "      <th>popularity</th>\n",
       "      <th>budget</th>\n",
       "      <th>revenue</th>\n",
       "      <th>original_title</th>\n",
       "      <th>cast</th>\n",
       "      <th>homepage</th>\n",
       "      <th>director</th>\n",
       "      <th>tagline</th>\n",
       "      <th>...</th>\n",
       "      <th>overview</th>\n",
       "      <th>runtime</th>\n",
       "      <th>genres</th>\n",
       "      <th>production_companies</th>\n",
       "      <th>release_date</th>\n",
       "      <th>vote_count</th>\n",
       "      <th>vote_average</th>\n",
       "      <th>release_year</th>\n",
       "      <th>budget_adj</th>\n",
       "      <th>revenue_adj</th>\n",
       "    </tr>\n",
       "  </thead>\n",
       "  <tbody>\n",
       "    <tr>\n",
       "      <th>0</th>\n",
       "      <td>135397</td>\n",
       "      <td>tt0369610</td>\n",
       "      <td>32.985763</td>\n",
       "      <td>150000000</td>\n",
       "      <td>1513528810</td>\n",
       "      <td>Jurassic World</td>\n",
       "      <td>Chris Pratt|Bryce Dallas Howard|Irrfan Khan|Vi...</td>\n",
       "      <td>http://www.jurassicworld.com/</td>\n",
       "      <td>Colin Trevorrow</td>\n",
       "      <td>The park is open.</td>\n",
       "      <td>...</td>\n",
       "      <td>Twenty-two years after the events of Jurassic ...</td>\n",
       "      <td>124</td>\n",
       "      <td>Action|Adventure|Science Fiction|Thriller</td>\n",
       "      <td>Universal Studios|Amblin Entertainment|Legenda...</td>\n",
       "      <td>2006-09-15</td>\n",
       "      <td>5562</td>\n",
       "      <td>6.5</td>\n",
       "      <td>2015</td>\n",
       "      <td>137999939.3</td>\n",
       "      <td>1.392446e+09</td>\n",
       "    </tr>\n",
       "    <tr>\n",
       "      <th>1</th>\n",
       "      <td>76341</td>\n",
       "      <td>tt1392190</td>\n",
       "      <td>28.419936</td>\n",
       "      <td>150000000</td>\n",
       "      <td>378436354</td>\n",
       "      <td>Mad Max: Fury Road</td>\n",
       "      <td>Tom Hardy|Charlize Theron|Hugh Keays-Byrne|Nic...</td>\n",
       "      <td>http://www.madmaxmovie.com/</td>\n",
       "      <td>George Miller</td>\n",
       "      <td>What a Lovely Day.</td>\n",
       "      <td>...</td>\n",
       "      <td>An apocalyptic story set in the furthest reach...</td>\n",
       "      <td>120</td>\n",
       "      <td>Action|Adventure|Science Fiction|Thriller</td>\n",
       "      <td>Village Roadshow Pictures|Kennedy Miller Produ...</td>\n",
       "      <td>5/13/15</td>\n",
       "      <td>6185</td>\n",
       "      <td>7.1</td>\n",
       "      <td>2015</td>\n",
       "      <td>137999939.3</td>\n",
       "      <td>3.481613e+08</td>\n",
       "    </tr>\n",
       "    <tr>\n",
       "      <th>2</th>\n",
       "      <td>262500</td>\n",
       "      <td>tt2908446</td>\n",
       "      <td>13.112507</td>\n",
       "      <td>110000000</td>\n",
       "      <td>295238201</td>\n",
       "      <td>Insurgent</td>\n",
       "      <td>Shailene Woodley|Theo James|Kate Winslet|Ansel...</td>\n",
       "      <td>http://www.thedivergentseries.movie/#insurgent</td>\n",
       "      <td>Robert Schwentke</td>\n",
       "      <td>One Choice Can Destroy You</td>\n",
       "      <td>...</td>\n",
       "      <td>Beatrice Prior must confront her inner demons ...</td>\n",
       "      <td>119</td>\n",
       "      <td>Adventure|Science Fiction|Thriller</td>\n",
       "      <td>Summit Entertainment|Mandeville Films|Red Wago...</td>\n",
       "      <td>3/18/15</td>\n",
       "      <td>2480</td>\n",
       "      <td>6.3</td>\n",
       "      <td>2015</td>\n",
       "      <td>101199955.5</td>\n",
       "      <td>2.716190e+08</td>\n",
       "    </tr>\n",
       "    <tr>\n",
       "      <th>3</th>\n",
       "      <td>140607</td>\n",
       "      <td>tt2488496</td>\n",
       "      <td>11.173104</td>\n",
       "      <td>200000000</td>\n",
       "      <td>2068178225</td>\n",
       "      <td>Star Wars: The Force Awakens</td>\n",
       "      <td>Harrison Ford|Mark Hamill|Carrie Fisher|Adam D...</td>\n",
       "      <td>http://www.starwars.com/films/star-wars-episod...</td>\n",
       "      <td>J.J. Abrams</td>\n",
       "      <td>Every generation has a story.</td>\n",
       "      <td>...</td>\n",
       "      <td>Thirty years after defeating the Galactic Empi...</td>\n",
       "      <td>136</td>\n",
       "      <td>Action|Adventure|Science Fiction|Fantasy</td>\n",
       "      <td>Lucasfilm|Truenorth Productions|Bad Robot</td>\n",
       "      <td>12/15/15</td>\n",
       "      <td>5292</td>\n",
       "      <td>7.5</td>\n",
       "      <td>2015</td>\n",
       "      <td>183999919.0</td>\n",
       "      <td>1.902723e+09</td>\n",
       "    </tr>\n",
       "    <tr>\n",
       "      <th>4</th>\n",
       "      <td>168259</td>\n",
       "      <td>tt2820852</td>\n",
       "      <td>9.335014</td>\n",
       "      <td>190000000</td>\n",
       "      <td>1506249360</td>\n",
       "      <td>Furious 7</td>\n",
       "      <td>Vin Diesel|Paul Walker|Jason Statham|Michelle ...</td>\n",
       "      <td>http://www.furious7.com/</td>\n",
       "      <td>James Wan</td>\n",
       "      <td>Vengeance Hits Home</td>\n",
       "      <td>...</td>\n",
       "      <td>Deckard Shaw seeks revenge against Dominic Tor...</td>\n",
       "      <td>137</td>\n",
       "      <td>Action|Crime|Thriller</td>\n",
       "      <td>Universal Pictures|Original Film|Media Rights ...</td>\n",
       "      <td>2004-01-15</td>\n",
       "      <td>2947</td>\n",
       "      <td>7.3</td>\n",
       "      <td>2015</td>\n",
       "      <td>174799923.1</td>\n",
       "      <td>1.385749e+09</td>\n",
       "    </tr>\n",
       "  </tbody>\n",
       "</table>\n",
       "<p>5 rows × 21 columns</p>\n",
       "</div>"
      ],
      "text/plain": [
       "       id    imdb_id  popularity     budget     revenue  \\\n",
       "0  135397  tt0369610   32.985763  150000000  1513528810   \n",
       "1   76341  tt1392190   28.419936  150000000   378436354   \n",
       "2  262500  tt2908446   13.112507  110000000   295238201   \n",
       "3  140607  tt2488496   11.173104  200000000  2068178225   \n",
       "4  168259  tt2820852    9.335014  190000000  1506249360   \n",
       "\n",
       "                 original_title  \\\n",
       "0                Jurassic World   \n",
       "1            Mad Max: Fury Road   \n",
       "2                     Insurgent   \n",
       "3  Star Wars: The Force Awakens   \n",
       "4                     Furious 7   \n",
       "\n",
       "                                                cast  \\\n",
       "0  Chris Pratt|Bryce Dallas Howard|Irrfan Khan|Vi...   \n",
       "1  Tom Hardy|Charlize Theron|Hugh Keays-Byrne|Nic...   \n",
       "2  Shailene Woodley|Theo James|Kate Winslet|Ansel...   \n",
       "3  Harrison Ford|Mark Hamill|Carrie Fisher|Adam D...   \n",
       "4  Vin Diesel|Paul Walker|Jason Statham|Michelle ...   \n",
       "\n",
       "                                            homepage          director  \\\n",
       "0                      http://www.jurassicworld.com/   Colin Trevorrow   \n",
       "1                        http://www.madmaxmovie.com/     George Miller   \n",
       "2     http://www.thedivergentseries.movie/#insurgent  Robert Schwentke   \n",
       "3  http://www.starwars.com/films/star-wars-episod...       J.J. Abrams   \n",
       "4                           http://www.furious7.com/         James Wan   \n",
       "\n",
       "                         tagline      ...       \\\n",
       "0              The park is open.      ...        \n",
       "1             What a Lovely Day.      ...        \n",
       "2     One Choice Can Destroy You      ...        \n",
       "3  Every generation has a story.      ...        \n",
       "4            Vengeance Hits Home      ...        \n",
       "\n",
       "                                            overview runtime  \\\n",
       "0  Twenty-two years after the events of Jurassic ...     124   \n",
       "1  An apocalyptic story set in the furthest reach...     120   \n",
       "2  Beatrice Prior must confront her inner demons ...     119   \n",
       "3  Thirty years after defeating the Galactic Empi...     136   \n",
       "4  Deckard Shaw seeks revenge against Dominic Tor...     137   \n",
       "\n",
       "                                      genres  \\\n",
       "0  Action|Adventure|Science Fiction|Thriller   \n",
       "1  Action|Adventure|Science Fiction|Thriller   \n",
       "2         Adventure|Science Fiction|Thriller   \n",
       "3   Action|Adventure|Science Fiction|Fantasy   \n",
       "4                      Action|Crime|Thriller   \n",
       "\n",
       "                                production_companies release_date vote_count  \\\n",
       "0  Universal Studios|Amblin Entertainment|Legenda...   2006-09-15       5562   \n",
       "1  Village Roadshow Pictures|Kennedy Miller Produ...      5/13/15       6185   \n",
       "2  Summit Entertainment|Mandeville Films|Red Wago...      3/18/15       2480   \n",
       "3          Lucasfilm|Truenorth Productions|Bad Robot     12/15/15       5292   \n",
       "4  Universal Pictures|Original Film|Media Rights ...   2004-01-15       2947   \n",
       "\n",
       "   vote_average  release_year   budget_adj   revenue_adj  \n",
       "0           6.5          2015  137999939.3  1.392446e+09  \n",
       "1           7.1          2015  137999939.3  3.481613e+08  \n",
       "2           6.3          2015  101199955.5  2.716190e+08  \n",
       "3           7.5          2015  183999919.0  1.902723e+09  \n",
       "4           7.3          2015  174799923.1  1.385749e+09  \n",
       "\n",
       "[5 rows x 21 columns]"
      ]
     },
     "execution_count": 10,
     "metadata": {},
     "output_type": "execute_result"
    }
   ],
   "source": [
    "#2 check the first few rows to see what variables are. \n",
    "#The cast and genre columnscontains with multiple values and separated by| character. \n",
    "#Should it be separated and put each of them by column?\n",
    "df.head()\n"
   ]
  },
  {
   "cell_type": "code",
   "execution_count": 11,
   "metadata": {},
   "outputs": [
    {
     "name": "stdout",
     "output_type": "stream",
     "text": [
      "<class 'pandas.core.frame.DataFrame'>\n",
      "RangeIndex: 10866 entries, 0 to 10865\n",
      "Data columns (total 21 columns):\n",
      "id                      10866 non-null int64\n",
      "imdb_id                 10856 non-null object\n",
      "popularity              10866 non-null float64\n",
      "budget                  10866 non-null int64\n",
      "revenue                 10866 non-null int64\n",
      "original_title          10866 non-null object\n",
      "cast                    10790 non-null object\n",
      "homepage                2936 non-null object\n",
      "director                10822 non-null object\n",
      "tagline                 8042 non-null object\n",
      "keywords                9373 non-null object\n",
      "overview                10862 non-null object\n",
      "runtime                 10866 non-null int64\n",
      "genres                  10843 non-null object\n",
      "production_companies    9836 non-null object\n",
      "release_date            10866 non-null object\n",
      "vote_count              10866 non-null int64\n",
      "vote_average            10866 non-null float64\n",
      "release_year            10866 non-null int64\n",
      "budget_adj              10866 non-null float64\n",
      "revenue_adj             10866 non-null float64\n",
      "dtypes: float64(4), int64(6), object(11)\n",
      "memory usage: 1.7+ MB\n"
     ]
    }
   ],
   "source": [
    "#2 check the information of the dataframe.First, there are some columns not related to the data analysis,\n",
    "# including id, imdb_id,overview, release_date, also there are too many missing values for the three columns: \n",
    "# homepage, keywords, tagline and production_companies. so we are going to remove those columns later.\n",
    "df.info()\n"
   ]
  },
  {
   "cell_type": "code",
   "execution_count": 12,
   "metadata": {},
   "outputs": [
    {
     "data": {
      "text/plain": [
       "(10866, 21)"
      ]
     },
     "execution_count": 12,
     "metadata": {},
     "output_type": "execute_result"
    }
   ],
   "source": [
    "# check the shape of the dataframe\n",
    "df.shape"
   ]
  },
  {
   "cell_type": "code",
   "execution_count": 13,
   "metadata": {},
   "outputs": [
    {
     "data": {
      "text/plain": [
       "id                        int64\n",
       "imdb_id                  object\n",
       "popularity              float64\n",
       "budget                    int64\n",
       "revenue                   int64\n",
       "original_title           object\n",
       "cast                     object\n",
       "homepage                 object\n",
       "director                 object\n",
       "tagline                  object\n",
       "keywords                 object\n",
       "overview                 object\n",
       "runtime                   int64\n",
       "genres                   object\n",
       "production_companies     object\n",
       "release_date             object\n",
       "vote_count                int64\n",
       "vote_average            float64\n",
       "release_year              int64\n",
       "budget_adj              float64\n",
       "revenue_adj             float64\n",
       "dtype: object"
      ]
     },
     "execution_count": 13,
     "metadata": {},
     "output_type": "execute_result"
    }
   ],
   "source": [
    "# check the data types of the dataframe, the datatypes look fine, so I don't need to change datatypes.\n",
    "df.dtypes"
   ]
  },
  {
   "cell_type": "code",
   "execution_count": 14,
   "metadata": {},
   "outputs": [
    {
     "data": {
      "text/plain": [
       "1"
      ]
     },
     "execution_count": 14,
     "metadata": {},
     "output_type": "execute_result"
    }
   ],
   "source": [
    "# check duplicates of the dataframe. There is one duplicate that need to be drop\n",
    "df.duplicated().sum()"
   ]
  },
  {
   "cell_type": "code",
   "execution_count": 15,
   "metadata": {},
   "outputs": [
    {
     "data": {
      "text/plain": [
       "id                         0\n",
       "imdb_id                   10\n",
       "popularity                 0\n",
       "budget                     0\n",
       "revenue                    0\n",
       "original_title             0\n",
       "cast                      76\n",
       "homepage                7930\n",
       "director                  44\n",
       "tagline                 2824\n",
       "keywords                1493\n",
       "overview                   4\n",
       "runtime                    0\n",
       "genres                    23\n",
       "production_companies    1030\n",
       "release_date               0\n",
       "vote_count                 0\n",
       "vote_average               0\n",
       "release_year               0\n",
       "budget_adj                 0\n",
       "revenue_adj                0\n",
       "dtype: int64"
      ]
     },
     "execution_count": 15,
     "metadata": {},
     "output_type": "execute_result"
    }
   ],
   "source": [
    "# check null values of the dataframe. There is one duplicate that need to be drop. \n",
    "#There are over 1000 missing values for homepage, tagline, keywords, and production_companies,\n",
    "#which are not so neceessary for the data analysis. So I decide to drop them. \n",
    "#For the missing values in cast, genres, director, I will keep the three columns and decide what to do later.\n",
    "df.isnull().sum()"
   ]
  },
  {
   "cell_type": "code",
   "execution_count": 16,
   "metadata": {},
   "outputs": [
    {
     "data": {
      "text/plain": [
       "id                      10865\n",
       "imdb_id                 10855\n",
       "popularity              10814\n",
       "budget                    557\n",
       "revenue                  4702\n",
       "original_title          10571\n",
       "cast                    10719\n",
       "homepage                 2896\n",
       "director                 5067\n",
       "tagline                  7997\n",
       "keywords                 8804\n",
       "overview                10847\n",
       "runtime                   247\n",
       "genres                   2039\n",
       "production_companies     7445\n",
       "release_date             5909\n",
       "vote_count               1289\n",
       "vote_average               72\n",
       "release_year               56\n",
       "budget_adj               2614\n",
       "revenue_adj              4840\n",
       "dtype: int64"
      ]
     },
     "execution_count": 16,
     "metadata": {},
     "output_type": "execute_result"
    }
   ],
   "source": [
    "# check unique values of the dataframe. \n",
    "# For the budget, revenue, runtime, vote_count, vote_average, the unique values are very low. I will further look at it. \n",
    "df.nunique()\n"
   ]
  },
  {
   "cell_type": "code",
   "execution_count": 17,
   "metadata": {},
   "outputs": [
    {
     "data": {
      "text/html": [
       "<div>\n",
       "<style scoped>\n",
       "    .dataframe tbody tr th:only-of-type {\n",
       "        vertical-align: middle;\n",
       "    }\n",
       "\n",
       "    .dataframe tbody tr th {\n",
       "        vertical-align: top;\n",
       "    }\n",
       "\n",
       "    .dataframe thead th {\n",
       "        text-align: right;\n",
       "    }\n",
       "</style>\n",
       "<table border=\"1\" class=\"dataframe\">\n",
       "  <thead>\n",
       "    <tr style=\"text-align: right;\">\n",
       "      <th></th>\n",
       "      <th>id</th>\n",
       "      <th>popularity</th>\n",
       "      <th>budget</th>\n",
       "      <th>revenue</th>\n",
       "      <th>runtime</th>\n",
       "      <th>vote_count</th>\n",
       "      <th>vote_average</th>\n",
       "      <th>release_year</th>\n",
       "      <th>budget_adj</th>\n",
       "      <th>revenue_adj</th>\n",
       "    </tr>\n",
       "  </thead>\n",
       "  <tbody>\n",
       "    <tr>\n",
       "      <th>count</th>\n",
       "      <td>10866.000000</td>\n",
       "      <td>10866.000000</td>\n",
       "      <td>1.086600e+04</td>\n",
       "      <td>1.086600e+04</td>\n",
       "      <td>10866.000000</td>\n",
       "      <td>10866.000000</td>\n",
       "      <td>10866.000000</td>\n",
       "      <td>10866.000000</td>\n",
       "      <td>1.086600e+04</td>\n",
       "      <td>1.086600e+04</td>\n",
       "    </tr>\n",
       "    <tr>\n",
       "      <th>mean</th>\n",
       "      <td>66064.177434</td>\n",
       "      <td>0.646441</td>\n",
       "      <td>1.462570e+07</td>\n",
       "      <td>3.982332e+07</td>\n",
       "      <td>102.070863</td>\n",
       "      <td>217.389748</td>\n",
       "      <td>5.974922</td>\n",
       "      <td>2001.322658</td>\n",
       "      <td>1.755104e+07</td>\n",
       "      <td>5.136436e+07</td>\n",
       "    </tr>\n",
       "    <tr>\n",
       "      <th>std</th>\n",
       "      <td>92130.136561</td>\n",
       "      <td>1.000185</td>\n",
       "      <td>3.091321e+07</td>\n",
       "      <td>1.170035e+08</td>\n",
       "      <td>31.381405</td>\n",
       "      <td>575.619058</td>\n",
       "      <td>0.935142</td>\n",
       "      <td>12.812941</td>\n",
       "      <td>3.430616e+07</td>\n",
       "      <td>1.446325e+08</td>\n",
       "    </tr>\n",
       "    <tr>\n",
       "      <th>min</th>\n",
       "      <td>5.000000</td>\n",
       "      <td>0.000065</td>\n",
       "      <td>0.000000e+00</td>\n",
       "      <td>0.000000e+00</td>\n",
       "      <td>0.000000</td>\n",
       "      <td>10.000000</td>\n",
       "      <td>1.500000</td>\n",
       "      <td>1960.000000</td>\n",
       "      <td>0.000000e+00</td>\n",
       "      <td>0.000000e+00</td>\n",
       "    </tr>\n",
       "    <tr>\n",
       "      <th>25%</th>\n",
       "      <td>10596.250000</td>\n",
       "      <td>0.207583</td>\n",
       "      <td>0.000000e+00</td>\n",
       "      <td>0.000000e+00</td>\n",
       "      <td>90.000000</td>\n",
       "      <td>17.000000</td>\n",
       "      <td>5.400000</td>\n",
       "      <td>1995.000000</td>\n",
       "      <td>0.000000e+00</td>\n",
       "      <td>0.000000e+00</td>\n",
       "    </tr>\n",
       "    <tr>\n",
       "      <th>50%</th>\n",
       "      <td>20669.000000</td>\n",
       "      <td>0.383856</td>\n",
       "      <td>0.000000e+00</td>\n",
       "      <td>0.000000e+00</td>\n",
       "      <td>99.000000</td>\n",
       "      <td>38.000000</td>\n",
       "      <td>6.000000</td>\n",
       "      <td>2006.000000</td>\n",
       "      <td>0.000000e+00</td>\n",
       "      <td>0.000000e+00</td>\n",
       "    </tr>\n",
       "    <tr>\n",
       "      <th>75%</th>\n",
       "      <td>75610.000000</td>\n",
       "      <td>0.713817</td>\n",
       "      <td>1.500000e+07</td>\n",
       "      <td>2.400000e+07</td>\n",
       "      <td>111.000000</td>\n",
       "      <td>145.750000</td>\n",
       "      <td>6.600000</td>\n",
       "      <td>2011.000000</td>\n",
       "      <td>2.085325e+07</td>\n",
       "      <td>3.369710e+07</td>\n",
       "    </tr>\n",
       "    <tr>\n",
       "      <th>max</th>\n",
       "      <td>417859.000000</td>\n",
       "      <td>32.985763</td>\n",
       "      <td>4.250000e+08</td>\n",
       "      <td>2.781506e+09</td>\n",
       "      <td>900.000000</td>\n",
       "      <td>9767.000000</td>\n",
       "      <td>9.200000</td>\n",
       "      <td>2015.000000</td>\n",
       "      <td>4.250000e+08</td>\n",
       "      <td>2.827124e+09</td>\n",
       "    </tr>\n",
       "  </tbody>\n",
       "</table>\n",
       "</div>"
      ],
      "text/plain": [
       "                  id    popularity        budget       revenue       runtime  \\\n",
       "count   10866.000000  10866.000000  1.086600e+04  1.086600e+04  10866.000000   \n",
       "mean    66064.177434      0.646441  1.462570e+07  3.982332e+07    102.070863   \n",
       "std     92130.136561      1.000185  3.091321e+07  1.170035e+08     31.381405   \n",
       "min         5.000000      0.000065  0.000000e+00  0.000000e+00      0.000000   \n",
       "25%     10596.250000      0.207583  0.000000e+00  0.000000e+00     90.000000   \n",
       "50%     20669.000000      0.383856  0.000000e+00  0.000000e+00     99.000000   \n",
       "75%     75610.000000      0.713817  1.500000e+07  2.400000e+07    111.000000   \n",
       "max    417859.000000     32.985763  4.250000e+08  2.781506e+09    900.000000   \n",
       "\n",
       "         vote_count  vote_average  release_year    budget_adj   revenue_adj  \n",
       "count  10866.000000  10866.000000  10866.000000  1.086600e+04  1.086600e+04  \n",
       "mean     217.389748      5.974922   2001.322658  1.755104e+07  5.136436e+07  \n",
       "std      575.619058      0.935142     12.812941  3.430616e+07  1.446325e+08  \n",
       "min       10.000000      1.500000   1960.000000  0.000000e+00  0.000000e+00  \n",
       "25%       17.000000      5.400000   1995.000000  0.000000e+00  0.000000e+00  \n",
       "50%       38.000000      6.000000   2006.000000  0.000000e+00  0.000000e+00  \n",
       "75%      145.750000      6.600000   2011.000000  2.085325e+07  3.369710e+07  \n",
       "max     9767.000000      9.200000   2015.000000  4.250000e+08  2.827124e+09  "
      ]
     },
     "execution_count": 17,
     "metadata": {},
     "output_type": "execute_result"
    }
   ],
   "source": [
    "#check describe to figure out those low unique values.\n",
    "# the minimum budget, revenue and runtime are 0, which does not make sense.\n",
    "# So I need make cleaning descision on zero values of budget, revenue, and runtime\n",
    "df.describe()"
   ]
  },
  {
   "cell_type": "code",
   "execution_count": null,
   "metadata": {
    "collapsed": true
   },
   "outputs": [],
   "source": []
  },
  {
   "cell_type": "code",
   "execution_count": null,
   "metadata": {
    "collapsed": true
   },
   "outputs": [],
   "source": []
  },
  {
   "cell_type": "markdown",
   "metadata": {},
   "source": [
    "### Data Cleaning\n",
    ">After a sneak peak of the dataframe. I summarized the data cleaning descisions below:\n",
    "1 drop unnecessary columns, including, imdb_id,homepage,tagline, production_companies, release_date, overview. \n",
    "2 drop duplicates\n",
    "3 drop null values\n",
    "4 make cleaning descisions on 0 values in budget, revenue, and runtime.\n",
    "5 The cast and genre columnscontains with multiple values and separated by| character. Separate the elements in these two columns.\n",
    "\n"
   ]
  },
  {
   "cell_type": "code",
   "execution_count": 18,
   "metadata": {},
   "outputs": [
    {
     "data": {
      "text/html": [
       "<div>\n",
       "<style scoped>\n",
       "    .dataframe tbody tr th:only-of-type {\n",
       "        vertical-align: middle;\n",
       "    }\n",
       "\n",
       "    .dataframe tbody tr th {\n",
       "        vertical-align: top;\n",
       "    }\n",
       "\n",
       "    .dataframe thead th {\n",
       "        text-align: right;\n",
       "    }\n",
       "</style>\n",
       "<table border=\"1\" class=\"dataframe\">\n",
       "  <thead>\n",
       "    <tr style=\"text-align: right;\">\n",
       "      <th></th>\n",
       "      <th>id</th>\n",
       "      <th>popularity</th>\n",
       "      <th>budget</th>\n",
       "      <th>revenue</th>\n",
       "      <th>original_title</th>\n",
       "      <th>cast</th>\n",
       "      <th>director</th>\n",
       "      <th>keywords</th>\n",
       "      <th>runtime</th>\n",
       "      <th>genres</th>\n",
       "      <th>vote_count</th>\n",
       "      <th>vote_average</th>\n",
       "      <th>release_year</th>\n",
       "      <th>budget_adj</th>\n",
       "      <th>revenue_adj</th>\n",
       "    </tr>\n",
       "  </thead>\n",
       "  <tbody>\n",
       "    <tr>\n",
       "      <th>0</th>\n",
       "      <td>135397</td>\n",
       "      <td>32.985763</td>\n",
       "      <td>150000000</td>\n",
       "      <td>1513528810</td>\n",
       "      <td>Jurassic World</td>\n",
       "      <td>Chris Pratt|Bryce Dallas Howard|Irrfan Khan|Vi...</td>\n",
       "      <td>Colin Trevorrow</td>\n",
       "      <td>monster|dna|tyrannosaurus rex|velociraptor|island</td>\n",
       "      <td>124</td>\n",
       "      <td>Action|Adventure|Science Fiction|Thriller</td>\n",
       "      <td>5562</td>\n",
       "      <td>6.5</td>\n",
       "      <td>2015</td>\n",
       "      <td>137999939.3</td>\n",
       "      <td>1.392446e+09</td>\n",
       "    </tr>\n",
       "  </tbody>\n",
       "</table>\n",
       "</div>"
      ],
      "text/plain": [
       "       id  popularity     budget     revenue  original_title  \\\n",
       "0  135397   32.985763  150000000  1513528810  Jurassic World   \n",
       "\n",
       "                                                cast         director  \\\n",
       "0  Chris Pratt|Bryce Dallas Howard|Irrfan Khan|Vi...  Colin Trevorrow   \n",
       "\n",
       "                                            keywords  runtime  \\\n",
       "0  monster|dna|tyrannosaurus rex|velociraptor|island      124   \n",
       "\n",
       "                                      genres  vote_count  vote_average  \\\n",
       "0  Action|Adventure|Science Fiction|Thriller        5562           6.5   \n",
       "\n",
       "   release_year   budget_adj   revenue_adj  \n",
       "0          2015  137999939.3  1.392446e+09  "
      ]
     },
     "execution_count": 18,
     "metadata": {},
     "output_type": "execute_result"
    }
   ],
   "source": [
    "# drop unneccessary variables\n",
    "df.drop(['imdb_id','homepage','tagline', 'production_companies', 'release_date', 'overview'], axis=1, inplace=True)\n",
    "df.head(1)"
   ]
  },
  {
   "cell_type": "code",
   "execution_count": 19,
   "metadata": {},
   "outputs": [
    {
     "data": {
      "text/plain": [
       "(10866, 15)"
      ]
     },
     "execution_count": 19,
     "metadata": {},
     "output_type": "execute_result"
    }
   ],
   "source": [
    "df.shape"
   ]
  },
  {
   "cell_type": "code",
   "execution_count": 20,
   "metadata": {
    "collapsed": true
   },
   "outputs": [],
   "source": [
    "#drop duplicates\n",
    "df.drop_duplicates(inplace=True)"
   ]
  },
  {
   "cell_type": "code",
   "execution_count": 21,
   "metadata": {},
   "outputs": [
    {
     "data": {
      "text/plain": [
       "0"
      ]
     },
     "execution_count": 21,
     "metadata": {},
     "output_type": "execute_result"
    }
   ],
   "source": [
    "df.duplicated().sum()"
   ]
  },
  {
   "cell_type": "code",
   "execution_count": 22,
   "metadata": {
    "collapsed": true
   },
   "outputs": [],
   "source": [
    "#drop null values\n",
    "df.dropna(inplace=True)"
   ]
  },
  {
   "cell_type": "code",
   "execution_count": 32,
   "metadata": {},
   "outputs": [
    {
     "data": {
      "text/plain": [
       "id                False\n",
       "popularity        False\n",
       "budget            False\n",
       "revenue           False\n",
       "original_title    False\n",
       "cast              False\n",
       "director          False\n",
       "keywords          False\n",
       "runtime           False\n",
       "genres            False\n",
       "vote_count        False\n",
       "vote_average      False\n",
       "release_year      False\n",
       "budget_adj        False\n",
       "revenue_adj       False\n",
       "dtype: bool"
      ]
     },
     "execution_count": 32,
     "metadata": {},
     "output_type": "execute_result"
    }
   ],
   "source": [
    "df.isnull().any()\n"
   ]
  },
  {
   "cell_type": "code",
   "execution_count": 23,
   "metadata": {},
   "outputs": [
    {
     "name": "stdout",
     "output_type": "stream",
     "text": [
      "<class 'pandas.core.frame.DataFrame'>\n",
      "Int64Index: 9306 entries, 0 to 10865\n",
      "Data columns (total 15 columns):\n",
      "id                9306 non-null int64\n",
      "popularity        9306 non-null float64\n",
      "budget            9306 non-null int64\n",
      "revenue           9306 non-null int64\n",
      "original_title    9306 non-null object\n",
      "cast              9306 non-null object\n",
      "director          9306 non-null object\n",
      "keywords          9306 non-null object\n",
      "runtime           9306 non-null int64\n",
      "genres            9306 non-null object\n",
      "vote_count        9306 non-null int64\n",
      "vote_average      9306 non-null float64\n",
      "release_year      9306 non-null int64\n",
      "budget_adj        9306 non-null float64\n",
      "revenue_adj       9306 non-null float64\n",
      "dtypes: float64(4), int64(6), object(5)\n",
      "memory usage: 1.1+ MB\n"
     ]
    }
   ],
   "source": [
    "df.info()"
   ]
  },
  {
   "cell_type": "code",
   "execution_count": 24,
   "metadata": {},
   "outputs": [
    {
     "data": {
      "text/plain": [
       "(9306, 15)"
      ]
     },
     "execution_count": 24,
     "metadata": {},
     "output_type": "execute_result"
    }
   ],
   "source": [
    "df.shape"
   ]
  },
  {
   "cell_type": "code",
   "execution_count": 25,
   "metadata": {},
   "outputs": [
    {
     "data": {
      "text/plain": [
       "4479"
      ]
     },
     "execution_count": 25,
     "metadata": {},
     "output_type": "execute_result"
    }
   ],
   "source": [
    "# clean 0 values in budget\n",
    "df.query('budget==0').count()['id']"
   ]
  },
  {
   "cell_type": "code",
   "execution_count": 26,
   "metadata": {
    "collapsed": true
   },
   "outputs": [],
   "source": [
    "#there are 4479 0 values, so I decide to replace 0 with null.\n",
    "df['budget']=df['budget'].replace(0, np.nan)"
   ]
  },
  {
   "cell_type": "code",
   "execution_count": 27,
   "metadata": {},
   "outputs": [
    {
     "data": {
      "text/plain": [
       "0"
      ]
     },
     "execution_count": 27,
     "metadata": {},
     "output_type": "execute_result"
    }
   ],
   "source": [
    "df.query('budget==0').count()['id']"
   ]
  },
  {
   "cell_type": "code",
   "execution_count": 28,
   "metadata": {},
   "outputs": [
    {
     "data": {
      "text/plain": [
       "4695"
      ]
     },
     "execution_count": 28,
     "metadata": {},
     "output_type": "execute_result"
    }
   ],
   "source": [
    "# clean 0 values in revenue\n",
    "df.query('revenue==0').count()['id']\n"
   ]
  },
  {
   "cell_type": "code",
   "execution_count": 29,
   "metadata": {
    "collapsed": true
   },
   "outputs": [],
   "source": [
    "#there are 4695 0 values, so I decide to replace 0 with null\n",
    "df['revenue']=df['revenue'].replace(0, np.nan)"
   ]
  },
  {
   "cell_type": "code",
   "execution_count": 30,
   "metadata": {},
   "outputs": [
    {
     "data": {
      "text/plain": [
       "0"
      ]
     },
     "execution_count": 30,
     "metadata": {},
     "output_type": "execute_result"
    }
   ],
   "source": [
    "df.query('revenue==0').count()['id']\n"
   ]
  },
  {
   "cell_type": "code",
   "execution_count": 31,
   "metadata": {},
   "outputs": [
    {
     "data": {
      "text/plain": [
       "13"
      ]
     },
     "execution_count": 31,
     "metadata": {},
     "output_type": "execute_result"
    }
   ],
   "source": [
    "# clean 0 values in runtime\n",
    "df.query('runtime==0').count()['id']\n"
   ]
  },
  {
   "cell_type": "code",
   "execution_count": 32,
   "metadata": {
    "collapsed": true
   },
   "outputs": [],
   "source": [
    "#there are only 13 zero values, so I decide to drop them\n",
    "df['runtime']=df.loc[df['runtime']!=0]"
   ]
  },
  {
   "cell_type": "code",
   "execution_count": 33,
   "metadata": {},
   "outputs": [
    {
     "data": {
      "text/plain": [
       "0"
      ]
     },
     "execution_count": 33,
     "metadata": {},
     "output_type": "execute_result"
    }
   ],
   "source": [
    "df.query('runtime==0').count()['id']\n"
   ]
  },
  {
   "cell_type": "code",
   "execution_count": 44,
   "metadata": {},
   "outputs": [
    {
     "name": "stdout",
     "output_type": "stream",
     "text": [
      "<class 'pandas.core.frame.DataFrame'>\n",
      "Int64Index: 9306 entries, 0 to 10865\n",
      "Data columns (total 15 columns):\n",
      "id                9306 non-null int64\n",
      "popularity        9306 non-null float64\n",
      "budget            4827 non-null float64\n",
      "revenue           4611 non-null float64\n",
      "original_title    9306 non-null object\n",
      "cast              9306 non-null object\n",
      "director          9306 non-null object\n",
      "keywords          9306 non-null object\n",
      "runtime           9293 non-null object\n",
      "genres            9306 non-null object\n",
      "vote_count        9306 non-null int64\n",
      "vote_average      9306 non-null float64\n",
      "release_year      9306 non-null int64\n",
      "budget_adj        9306 non-null float64\n",
      "revenue_adj       9306 non-null float64\n",
      "dtypes: float64(6), int64(3), object(6)\n",
      "memory usage: 1.1+ MB\n"
     ]
    }
   ],
   "source": [
    "#now check the info\n",
    "df.info()"
   ]
  },
  {
   "cell_type": "code",
   "execution_count": 34,
   "metadata": {},
   "outputs": [
    {
     "data": {
      "text/html": [
       "<div>\n",
       "<style scoped>\n",
       "    .dataframe tbody tr th:only-of-type {\n",
       "        vertical-align: middle;\n",
       "    }\n",
       "\n",
       "    .dataframe tbody tr th {\n",
       "        vertical-align: top;\n",
       "    }\n",
       "\n",
       "    .dataframe thead th {\n",
       "        text-align: right;\n",
       "    }\n",
       "</style>\n",
       "<table border=\"1\" class=\"dataframe\">\n",
       "  <thead>\n",
       "    <tr style=\"text-align: right;\">\n",
       "      <th></th>\n",
       "      <th>id</th>\n",
       "      <th>popularity</th>\n",
       "      <th>budget</th>\n",
       "      <th>revenue</th>\n",
       "      <th>vote_count</th>\n",
       "      <th>vote_average</th>\n",
       "      <th>release_year</th>\n",
       "      <th>budget_adj</th>\n",
       "      <th>revenue_adj</th>\n",
       "    </tr>\n",
       "  </thead>\n",
       "  <tbody>\n",
       "    <tr>\n",
       "      <th>count</th>\n",
       "      <td>9306.000000</td>\n",
       "      <td>9306.000000</td>\n",
       "      <td>4.827000e+03</td>\n",
       "      <td>4.611000e+03</td>\n",
       "      <td>9306.000000</td>\n",
       "      <td>9306.000000</td>\n",
       "      <td>9306.000000</td>\n",
       "      <td>9.306000e+03</td>\n",
       "      <td>9.306000e+03</td>\n",
       "    </tr>\n",
       "    <tr>\n",
       "      <th>mean</th>\n",
       "      <td>58328.057382</td>\n",
       "      <td>0.707981</td>\n",
       "      <td>3.191422e+07</td>\n",
       "      <td>9.263830e+07</td>\n",
       "      <td>247.627767</td>\n",
       "      <td>6.000355</td>\n",
       "      <td>2000.419514</td>\n",
       "      <td>1.991848e+07</td>\n",
       "      <td>5.929472e+07</td>\n",
       "    </tr>\n",
       "    <tr>\n",
       "      <th>std</th>\n",
       "      <td>86708.998238</td>\n",
       "      <td>1.063334</td>\n",
       "      <td>3.962340e+07</td>\n",
       "      <td>1.650279e+08</td>\n",
       "      <td>616.013851</td>\n",
       "      <td>0.909980</td>\n",
       "      <td>13.068678</td>\n",
       "      <td>3.619063e+07</td>\n",
       "      <td>1.545408e+08</td>\n",
       "    </tr>\n",
       "    <tr>\n",
       "      <th>min</th>\n",
       "      <td>5.000000</td>\n",
       "      <td>0.000188</td>\n",
       "      <td>1.000000e+00</td>\n",
       "      <td>2.000000e+00</td>\n",
       "      <td>10.000000</td>\n",
       "      <td>1.500000</td>\n",
       "      <td>1960.000000</td>\n",
       "      <td>0.000000e+00</td>\n",
       "      <td>0.000000e+00</td>\n",
       "    </tr>\n",
       "    <tr>\n",
       "      <th>25%</th>\n",
       "      <td>10001.250000</td>\n",
       "      <td>0.230966</td>\n",
       "      <td>6.500000e+06</td>\n",
       "      <td>8.686120e+06</td>\n",
       "      <td>19.000000</td>\n",
       "      <td>5.400000</td>\n",
       "      <td>1993.000000</td>\n",
       "      <td>0.000000e+00</td>\n",
       "      <td>0.000000e+00</td>\n",
       "    </tr>\n",
       "    <tr>\n",
       "      <th>50%</th>\n",
       "      <td>17183.500000</td>\n",
       "      <td>0.422673</td>\n",
       "      <td>1.850000e+07</td>\n",
       "      <td>3.456058e+07</td>\n",
       "      <td>47.000000</td>\n",
       "      <td>6.100000</td>\n",
       "      <td>2005.000000</td>\n",
       "      <td>5.072968e+05</td>\n",
       "      <td>0.000000e+00</td>\n",
       "    </tr>\n",
       "    <tr>\n",
       "      <th>75%</th>\n",
       "      <td>58484.500000</td>\n",
       "      <td>0.790917</td>\n",
       "      <td>4.000000e+07</td>\n",
       "      <td>1.031031e+08</td>\n",
       "      <td>181.000000</td>\n",
       "      <td>6.600000</td>\n",
       "      <td>2011.000000</td>\n",
       "      <td>2.579055e+07</td>\n",
       "      <td>4.649618e+07</td>\n",
       "    </tr>\n",
       "    <tr>\n",
       "      <th>max</th>\n",
       "      <td>417859.000000</td>\n",
       "      <td>32.985763</td>\n",
       "      <td>4.250000e+08</td>\n",
       "      <td>2.781506e+09</td>\n",
       "      <td>9767.000000</td>\n",
       "      <td>9.200000</td>\n",
       "      <td>2015.000000</td>\n",
       "      <td>4.250000e+08</td>\n",
       "      <td>2.827124e+09</td>\n",
       "    </tr>\n",
       "  </tbody>\n",
       "</table>\n",
       "</div>"
      ],
      "text/plain": [
       "                  id   popularity        budget       revenue   vote_count  \\\n",
       "count    9306.000000  9306.000000  4.827000e+03  4.611000e+03  9306.000000   \n",
       "mean    58328.057382     0.707981  3.191422e+07  9.263830e+07   247.627767   \n",
       "std     86708.998238     1.063334  3.962340e+07  1.650279e+08   616.013851   \n",
       "min         5.000000     0.000188  1.000000e+00  2.000000e+00    10.000000   \n",
       "25%     10001.250000     0.230966  6.500000e+06  8.686120e+06    19.000000   \n",
       "50%     17183.500000     0.422673  1.850000e+07  3.456058e+07    47.000000   \n",
       "75%     58484.500000     0.790917  4.000000e+07  1.031031e+08   181.000000   \n",
       "max    417859.000000    32.985763  4.250000e+08  2.781506e+09  9767.000000   \n",
       "\n",
       "       vote_average  release_year    budget_adj   revenue_adj  \n",
       "count   9306.000000   9306.000000  9.306000e+03  9.306000e+03  \n",
       "mean       6.000355   2000.419514  1.991848e+07  5.929472e+07  \n",
       "std        0.909980     13.068678  3.619063e+07  1.545408e+08  \n",
       "min        1.500000   1960.000000  0.000000e+00  0.000000e+00  \n",
       "25%        5.400000   1993.000000  0.000000e+00  0.000000e+00  \n",
       "50%        6.100000   2005.000000  5.072968e+05  0.000000e+00  \n",
       "75%        6.600000   2011.000000  2.579055e+07  4.649618e+07  \n",
       "max        9.200000   2015.000000  4.250000e+08  2.827124e+09  "
      ]
     },
     "execution_count": 34,
     "metadata": {},
     "output_type": "execute_result"
    }
   ],
   "source": [
    "# now the min values make more sense after data cleaning. \n",
    "df.describe()"
   ]
  },
  {
   "cell_type": "markdown",
   "metadata": {},
   "source": [
    "<a id='eda'></a>\n",
    "## Exploratory Data Analysis\n",
    "\n",
    ">Now that I have trimmed and cleaned your data, I am ready to move on to exploration. Compute statistics and create visualizations with the goal of addressing the research questions that I posed in the Introduction section. \n",
    "\n",
    "###   Part1: Find the quantitative features that are associated with Successful Movies\n",
    "  Question 1. What features are associated with the popularity?\n",
    "  Question 2. What features are associated with voting score?"
   ]
  },
  {
   "cell_type": "code",
   "execution_count": 35,
   "metadata": {},
   "outputs": [
    {
     "data": {
      "text/plain": [
       "array([[<matplotlib.axes._subplots.AxesSubplot object at 0x0000020688627BE0>,\n",
       "        <matplotlib.axes._subplots.AxesSubplot object at 0x000002068886C898>,\n",
       "        <matplotlib.axes._subplots.AxesSubplot object at 0x00000206886DE550>],\n",
       "       [<matplotlib.axes._subplots.AxesSubplot object at 0x00000206885C52B0>,\n",
       "        <matplotlib.axes._subplots.AxesSubplot object at 0x0000020689AAD828>,\n",
       "        <matplotlib.axes._subplots.AxesSubplot object at 0x0000020689AAD860>],\n",
       "       [<matplotlib.axes._subplots.AxesSubplot object at 0x0000020688683710>,\n",
       "        <matplotlib.axes._subplots.AxesSubplot object at 0x00000206882476A0>,\n",
       "        <matplotlib.axes._subplots.AxesSubplot object at 0x0000020688100978>]], dtype=object)"
      ]
     },
     "execution_count": 35,
     "metadata": {},
     "output_type": "execute_result"
    },
    {
     "data": {
      "image/png": "[encoded data removed]",
      "text/plain": [
       "<matplotlib.figure.Figure at 0x20684850438>"
      ]
     },
     "metadata": {},
     "output_type": "display_data"
    }
   ],
   "source": [
    "df.hist(figsize=(10,10))\n"
   ]
  },
  {
   "cell_type": "code",
   "execution_count": 38,
   "metadata": {
    "scrolled": true
   },
   "outputs": [
    {
     "data": {
      "text/plain": [
       "<matplotlib.text.Text at 0x206882a52b0>"
      ]
     },
     "execution_count": 38,
     "metadata": {},
     "output_type": "execute_result"
    },
    {
     "data": {
      "image/png": "[encoded data removed]",
      "text/plain": [
       "<matplotlib.figure.Figure at 0x20688d24550>"
      ]
     },
     "metadata": {},
     "output_type": "display_data"
    }
   ],
   "source": [
    "#Is the popularity associated with release year?\n",
    "year_pop=df.groupby('release_year')['popularity'].mean()\n",
    "year_pop.plot(title='popularity trend over years',alpha=.7)\n",
    "plt.xlabel('releas year',fontsize=18)\n",
    "plt.ylabel('popularity',fontsize=18)"
   ]
  },
  {
   "cell_type": "code",
   "execution_count": 39,
   "metadata": {
    "scrolled": true
   },
   "outputs": [
    {
     "data": {
      "text/plain": [
       "<matplotlib.text.Text at 0x20688df1940>"
      ]
     },
     "execution_count": 39,
     "metadata": {},
     "output_type": "execute_result"
    },
    {
     "data": {
      "image/png": "[encoded data removed]",
      "text/plain": [
       "<matplotlib.figure.Figure at 0x20688d52860>"
      ]
     },
     "metadata": {},
     "output_type": "display_data"
    }
   ],
   "source": [
    "# Is the popularity associated with the budget?\n",
    "min_value=df['budget'].min()\n",
    "first_quantile=df['budget'].quantile(0.25)\n",
    "second_quantile=df['budget'].quantile(0.5)\n",
    "third_quantile=df['budget'].quantile(0.75)\n",
    "max_value=df['budget'].max()\n",
    "bin_edges=[min_value, first_quantile, second_quantile, third_quantile,max_value]\n",
    "bin_names=['low','medium','mod_high','high']\n",
    "df['budget_level']=pd.cut(df['budget'], bin_edges, labels=bin_names)\n",
    "df.head()\n",
    "budget_pop=df.groupby('budget_level')['popularity'].mean()\n",
    "budget_pop.plot(kind='bar',alpha=0.7)\n",
    "plt.xlabel('budget_level',fontsize=18)\n",
    "plt.ylabel('popularity',fontsize=18)\n"
   ]
  },
  {
   "cell_type": "code",
   "execution_count": 40,
   "metadata": {},
   "outputs": [
    {
     "data": {
      "text/plain": [
       "<matplotlib.text.Text at 0x20688df1550>"
      ]
     },
     "execution_count": 40,
     "metadata": {},
     "output_type": "execute_result"
    },
    {
     "data": {
      "image/png": "[encoded data removed]",
      "text/plain": [
       "<matplotlib.figure.Figure at 0x20688d28d30>"
      ]
     },
     "metadata": {},
     "output_type": "display_data"
    }
   ],
   "source": [
    "#does budget level associated with rating?\n",
    "budget_pop=df.groupby('budget_level')['vote_average'].mean()\n",
    "budget_pop.plot(kind='bar',alpha=0.7)\n",
    "plt.xlabel('budget_level',fontsize=18)\n",
    "plt.ylabel('vote_average',fontsize=18)"
   ]
  },
  {
   "cell_type": "code",
   "execution_count": 41,
   "metadata": {},
   "outputs": [
    {
     "data": {
      "text/plain": [
       "<matplotlib.text.Text at 0x206890c5390>"
      ]
     },
     "execution_count": 41,
     "metadata": {},
     "output_type": "execute_result"
    },
    {
     "data": {
      "image/png": "[encoded data removed]",
      "text/plain": [
       "<matplotlib.figure.Figure at 0x20688d54cf8>"
      ]
     },
     "metadata": {},
     "output_type": "display_data"
    }
   ],
   "source": [
    "# does more popular movie have higher revenue?\n",
    "min_value=df['revenue'].min()\n",
    "first_quantile=df['revenue'].quantile(0.25)\n",
    "second_quantile=df['revenue'].quantile(0.5)\n",
    "third_quantile=df['revenue'].quantile(0.75)\n",
    "max_value=df['revenue'].max()\n",
    "bin_edges=[min_value, first_quantile, second_quantile, third_quantile,max_value]\n",
    "bin_names=['low','medium','mod_high','high']\n",
    "df['revenue_level']=pd.cut(df['revenue'], bin_edges, labels=bin_names)\n",
    "vote_pop=df.groupby('revenue_level')['popularity'].mean()\n",
    "vote_pop.plot(kind='bar',alpha=0.7)\n",
    "plt.xlabel('revenue_level',fontsize=18)\n",
    "plt.ylabel('popularity',fontsize=18)"
   ]
  },
  {
   "cell_type": "code",
   "execution_count": 42,
   "metadata": {},
   "outputs": [
    {
     "data": {
      "text/plain": [
       "<matplotlib.text.Text at 0x20689117898>"
      ]
     },
     "execution_count": 42,
     "metadata": {},
     "output_type": "execute_result"
    },
    {
     "data": {
      "image/png": "[encoded data removed]",
      "text/plain": [
       "<matplotlib.figure.Figure at 0x2068908a2e8>"
      ]
     },
     "metadata": {},
     "output_type": "display_data"
    }
   ],
   "source": [
    "# does higher voting movie have higher revenue?\n",
    "vote_pop=df.groupby('revenue_level')['vote_average'].mean()\n",
    "vote_pop.plot(kind='bar',alpha=0.7)\n",
    "plt.xlabel('revenue_level',fontsize=18)\n",
    "plt.ylabel('vote_average',fontsize=18)"
   ]
  },
  {
   "cell_type": "code",
   "execution_count": 43,
   "metadata": {},
   "outputs": [
    {
     "data": {
      "image/png": "[encoded data removed]",
      "text/plain": [
       "<matplotlib.figure.Figure at 0x20688ab3860>"
      ]
     },
     "metadata": {},
     "output_type": "display_data"
    }
   ],
   "source": [
    "#find the top 100 movies by year, and the relation between rating and revenue in the most recent 5 years\n",
    "top_voting=df.sort_values(by=['release_year','vote_average'], ascending=[True,False]).groupby('release_year').head(100)   \n",
    "top_revenue=df.sort_values(by=['release_year','revenue'], ascending=[True,False]).groupby('release_year').head(100)\n",
    "fig=plt.figure()\n",
    "ax=fig.add_subplot(111)\n",
    "ax2=ax.twinx()\n",
    "top_voting.query('release_year > 2010').groupby('release_year')['vote_average'].mean().plot(kind='bar',color='green', ax=ax,alpha=0.5) \n",
    "top_revenue.query('release_year> 2010').groupby('release_year')['revenue'].mean().plot(kind='bar',color='blue',ax=ax2,alpha=0.5) \n",
    "\n",
    "ax.set_ylabel('vote_average',fontsize=18)\n",
    "ax2.set_ylabel('revenue',fontsize=18)\n",
    "\n",
    "plt.show()"
   ]
  },
  {
   "cell_type": "code",
   "execution_count": 44,
   "metadata": {
    "scrolled": true
   },
   "outputs": [
    {
     "data": {
      "text/plain": [
       "<matplotlib.text.Text at 0x206891ef588>"
      ]
     },
     "execution_count": 44,
     "metadata": {},
     "output_type": "execute_result"
    },
    {
     "data": {
      "image/png": "[encoded data removed]",
      "text/plain": [
       "<matplotlib.figure.Figure at 0x2068908a4e0>"
      ]
     },
     "metadata": {},
     "output_type": "display_data"
    }
   ],
   "source": [
    "# are higher voting movie  more popular?\n",
    "min_value=df['vote_average'].min()\n",
    "first_quantile=df['vote_average'].quantile(0.25)\n",
    "second_quantile=df['vote_average'].quantile(0.5)\n",
    "third_quantile=df['vote_average'].quantile(0.75)\n",
    "max_value=df['vote_average'].max()\n",
    "bin_edges=[min_value, first_quantile, second_quantile, third_quantile,max_value]\n",
    "bin_names=['low','medium','mod_high','high']\n",
    "df['vote_level']=pd.cut(df['vote_average'], bin_edges, labels=bin_names)\n",
    "vote_pop=df.groupby('vote_level')['popularity'].mean()\n",
    "vote_pop.plot(kind='bar',alpha=0.7)\n",
    "plt.xlabel('vote_level',fontsize=18)\n",
    "plt.ylabel('popularity',fontsize=18)"
   ]
  },
  {
   "cell_type": "code",
   "execution_count": 45,
   "metadata": {},
   "outputs": [
    {
     "data": {
      "image/png": "[encoded data removed]",
      "text/plain": [
       "<matplotlib.figure.Figure at 0x206893cc320>"
      ]
     },
     "metadata": {},
     "output_type": "display_data"
    }
   ],
   "source": [
    "# Is runtime level associated with popularity?\n",
    "min_value=df['runtime'].min()\n",
    "first_quantile=df['runtime'].quantile(0.25)\n",
    "second_quantile=df['runtime'].quantile(0.5)\n",
    "third_quantile=df['runtime'].quantile(0.75)\n",
    "max_value=df['runtime'].max()\n",
    "bin_edges=[min_value, first_quantile, second_quantile, third_quantile,max_value]\n",
    "bin_names=['low','medium','mod_high','high']\n",
    "df['runtime_level']=pd.cut(df['runtime'], bin_edges, labels=bin_names)\n",
    "runtime_pop=df.groupby('runtime_level')['popularity'].mean()\n",
    "runtime_pop.plot(kind='bar',alpha=0.7)\n",
    "plt.xlabel('runtime_level',fontsize=18)\n",
    "plt.ylabel('popularity',fontsize=18)\n",
    "plt.show()"
   ]
  },
  {
   "cell_type": "code",
   "execution_count": 46,
   "metadata": {},
   "outputs": [
    {
     "data": {
      "image/png": "[encoded data removed]",
      "text/plain": [
       "<matplotlib.figure.Figure at 0x206890c72b0>"
      ]
     },
     "metadata": {},
     "output_type": "display_data"
    }
   ],
   "source": [
    "vote_pop=df.groupby('runtime_level')['vote_average'].mean()\n",
    "vote_pop.plot(kind='bar',alpha=0.7)\n",
    "plt.xlabel('runtime_level',fontsize=18)\n",
    "plt.ylabel('vote_average',fontsize=18)\n",
    "plt.show()"
   ]
  },
  {
   "cell_type": "markdown",
   "metadata": {},
   "source": [
    "###  Part2: Find the categorical features that are associated with Successful Movies\n",
    "  Question 1. What movie types receive higher rating?\n",
    "  Question 2. What movie types are more profit?\n",
    "  Question 3. Who are the most popular cast, directors?\n",
    "  Question 4. Are movies casted by top cast more popular?\n",
    "  "
   ]
  },
  {
   "cell_type": "code",
   "execution_count": 48,
   "metadata": {},
   "outputs": [
    {
     "data": {
      "text/plain": [
       "Drama              2135\n",
       "Comedy             1998\n",
       "Action             1411\n",
       "Horror              779\n",
       "Adventure           534\n",
       "Thriller            416\n",
       "Crime               356\n",
       "Documentary         312\n",
       "Animation           300\n",
       "Fantasy             238\n",
       "Science Fiction     181\n",
       "Romance             152\n",
       "Mystery             110\n",
       "Family              107\n",
       "Music                81\n",
       "TV Movie             57\n",
       "War                  55\n",
       "Western              39\n",
       "History              39\n",
       "Foreign               6\n",
       "Name: genres, dtype: int64"
      ]
     },
     "execution_count": 48,
     "metadata": {},
     "output_type": "execute_result"
    }
   ],
   "source": [
    "# Separate the elements in the cast and genre columns containing multiple values \n",
    "df['genres']=df['genres'].str.split(\"|\",expand=True)\n",
    "df['genres'].value_counts()\n",
    "\n"
   ]
  },
  {
   "cell_type": "code",
   "execution_count": 50,
   "metadata": {},
   "outputs": [
    {
     "data": {
      "image/png": "[encoded data removed]",
      "text/plain": [
       "<matplotlib.figure.Figure at 0x206896d4470>"
      ]
     },
     "metadata": {},
     "output_type": "display_data"
    }
   ],
   "source": [
    "#Lets explor what are the movie types for those high rating movies?\n",
    "\n",
    "top=df['genres'].value_counts().head(3).index\n",
    "df.query('genres in @ top').groupby(['vote_level','genres']).size().unstack(fill_value=0).plot(kind='bar',alpha=0.7)\n",
    "plt.xlabel('vote_level',fontsize=18)\n",
    "plt.ylabel('genres',fontsize=18)\n",
    "plt.show()"
   ]
  },
  {
   "cell_type": "code",
   "execution_count": 51,
   "metadata": {
    "scrolled": true
   },
   "outputs": [
    {
     "data": {
      "image/png": "[encoded data removed]",
      "text/plain": [
       "<matplotlib.figure.Figure at 0x20689625128>"
      ]
     },
     "metadata": {},
     "output_type": "display_data"
    }
   ],
   "source": [
    "#Lets explor what are the movie types for those high profit movies?\n",
    "top=df['genres'].value_counts().head(3).index\n",
    "df.query('genres in @ top').groupby(['revenue_level','genres']).size().unstack(fill_value=0).plot(kind='bar',alpha=0.7)\n",
    "plt.xlabel('revenue_level',fontsize=18)\n",
    "plt.ylabel('genres',fontsize=18)\n",
    "plt.show()"
   ]
  },
  {
   "cell_type": "code",
   "execution_count": 71,
   "metadata": {},
   "outputs": [
    {
     "data": {
      "text/plain": [
       "Nicolas Cage             48\n",
       "Bruce Willis             39\n",
       "Robert De Niro           39\n",
       "Clint Eastwood           38\n",
       "Johnny Depp              37\n",
       "Tom Hanks                37\n",
       "Sylvester Stallone       33\n",
       "Denzel Washington        33\n",
       "John Travolta            33\n",
       "Tom Cruise               31\n",
       "Robin Williams           31\n",
       "John Cusack              29\n",
       "Jean-Claude Van Damme    29\n",
       "Arnold Schwarzenegger    29\n",
       "Woody Allen              29\n",
       "Al Pacino                28\n",
       "Keanu Reeves             28\n",
       "Sean Connery             28\n",
       "Harrison Ford            28\n",
       "Mel Gibson               28\n",
       "Adam Sandler             28\n",
       "Steve Martin             27\n",
       "Samuel L. Jackson        27\n",
       "Eddie Murphy             27\n",
       "Steven Seagal            26\n",
       "Michael Douglas          26\n",
       "Kevin Costner            26\n",
       "Ben Stiller              24\n",
       "Sandra Bullock           24\n",
       "Jeff Bridges             24\n",
       "                         ..\n",
       "Olivia Taylor Dudley      1\n",
       "Taylor Swift              1\n",
       "Stelian Urian             1\n",
       "Olivia Munn               1\n",
       "Danny Shayler             1\n",
       "Jeffrey Byron             1\n",
       "Tim Thomerson             1\n",
       "Tom Sizemore              1\n",
       "Carlos Boettcher          1\n",
       "Danny Elfman              1\n",
       "Chris Massoglia           1\n",
       "Pat Healy                 1\n",
       "Matthias Schoenaerts      1\n",
       "Tom Waits                 1\n",
       "Damian Chapa              1\n",
       "Manuel Camacho            1\n",
       "Aileen Quinn              1\n",
       "Dries Van Hegen           1\n",
       "Brenton Thwaites          1\n",
       "Mark A. Altman            1\n",
       "Chris Klein               1\n",
       "Gregory Berns             1\n",
       "Rafael Amaya              1\n",
       "Lynn Whitfield            1\n",
       "John Saxon                1\n",
       "Sasha Grey                1\n",
       "Alan Bagh                 1\n",
       "Jimmy Durante             1\n",
       "Biana Tamimi              1\n",
       "George MacKay             1\n",
       "Name: cast, Length: 3696, dtype: int64"
      ]
     },
     "execution_count": 71,
     "metadata": {},
     "output_type": "execute_result"
    }
   ],
   "source": [
    "df['cast']=df['cast'].str.split(\"|\",expand=True)\n",
    "df['cast'].value_counts()"
   ]
  },
  {
   "cell_type": "code",
   "execution_count": 55,
   "metadata": {},
   "outputs": [
    {
     "data": {
      "text/html": [
       "<div>\n",
       "<style scoped>\n",
       "    .dataframe tbody tr th:only-of-type {\n",
       "        vertical-align: middle;\n",
       "    }\n",
       "\n",
       "    .dataframe tbody tr th {\n",
       "        vertical-align: top;\n",
       "    }\n",
       "\n",
       "    .dataframe thead th {\n",
       "        text-align: right;\n",
       "    }\n",
       "</style>\n",
       "<table border=\"1\" class=\"dataframe\">\n",
       "  <thead>\n",
       "    <tr style=\"text-align: right;\">\n",
       "      <th></th>\n",
       "      <th>popular_cast</th>\n",
       "      <th>popular_director</th>\n",
       "      <th>popular_genres</th>\n",
       "      <th>popular_keywords</th>\n",
       "    </tr>\n",
       "  </thead>\n",
       "  <tbody>\n",
       "    <tr>\n",
       "      <th>0</th>\n",
       "      <td>Nicolas Cage</td>\n",
       "      <td>Woody Allen</td>\n",
       "      <td>Drama</td>\n",
       "      <td>woman director</td>\n",
       "    </tr>\n",
       "    <tr>\n",
       "      <th>1</th>\n",
       "      <td>Bruce Willis</td>\n",
       "      <td>Clint Eastwood</td>\n",
       "      <td>Comedy</td>\n",
       "      <td>independent film</td>\n",
       "    </tr>\n",
       "    <tr>\n",
       "      <th>2</th>\n",
       "      <td>Robert De Niro</td>\n",
       "      <td>Steven Spielberg</td>\n",
       "      <td>Action</td>\n",
       "      <td>sport</td>\n",
       "    </tr>\n",
       "    <tr>\n",
       "      <th>3</th>\n",
       "      <td>Clint Eastwood</td>\n",
       "      <td>Martin Scorsese</td>\n",
       "      <td>Horror</td>\n",
       "      <td>musical</td>\n",
       "    </tr>\n",
       "    <tr>\n",
       "      <th>4</th>\n",
       "      <td>Tom Hanks</td>\n",
       "      <td>Ridley Scott</td>\n",
       "      <td>Adventure</td>\n",
       "      <td>suspense</td>\n",
       "    </tr>\n",
       "  </tbody>\n",
       "</table>\n",
       "</div>"
      ],
      "text/plain": [
       "     popular_cast  popular_director popular_genres  popular_keywords\n",
       "0    Nicolas Cage       Woody Allen          Drama    woman director\n",
       "1    Bruce Willis    Clint Eastwood         Comedy  independent film\n",
       "2  Robert De Niro  Steven Spielberg         Action             sport\n",
       "3  Clint Eastwood   Martin Scorsese         Horror           musical\n",
       "4       Tom Hanks      Ridley Scott      Adventure          suspense"
      ]
     },
     "execution_count": 55,
     "metadata": {},
     "output_type": "execute_result"
    }
   ],
   "source": [
    "#find out the top 5  cast, director, genres, keywords \n",
    "df['cast']=df['cast'].str.split(\"|\",expand=True)\n",
    "a=df['cast'].value_counts().index.tolist()\n",
    "b=df['director'].value_counts().index.tolist()\n",
    "c=df['keywords'].value_counts().index.tolist()\n",
    "df['genres']=df['genres'].str.split(\"|\",expand=True)\n",
    "d=df['genres'].value_counts().index.tolist()\n",
    "df_popular=pd.DataFrame({'popular_cast':a[:5],'popular_director':b[:5],'popular_keywords':c[:5],'popular_genres':d[:5]})\n",
    "df_popular"
   ]
  },
  {
   "cell_type": "code",
   "execution_count": 56,
   "metadata": {},
   "outputs": [
    {
     "data": {
      "image/png": "[encoded data removed]",
      "text/plain": [
       "<matplotlib.figure.Figure at 0x206895e4da0>"
      ]
     },
     "metadata": {},
     "output_type": "display_data"
    }
   ],
   "source": [
    "#find out the revenue of movies by the top cast\n",
    "cast_names=['Nicolas Cage','Robert De Niro','Bruce Willis','Clint Eastwood','Johnny Depp']\n",
    "nicolas=df.query('cast in @  cast_names').groupby('cast')['revenue'].mean()\n",
    "nicolas.plot(kind='bar',alpha=0.7)\n",
    "plt.xlabel('cast_name',fontsize=18)\n",
    "plt.ylabel('revenue',fontsize=18)\n",
    "plt.show()"
   ]
  },
  {
   "cell_type": "code",
   "execution_count": 57,
   "metadata": {
    "scrolled": false
   },
   "outputs": [
    {
     "data": {
      "image/png": "[encoded data removed]",
      "text/plain": [
       "<matplotlib.figure.Figure at 0x2068964dac8>"
      ]
     },
     "metadata": {},
     "output_type": "display_data"
    }
   ],
   "source": [
    "#find out the popularity of movies by the top cast\n",
    "cast_names=['Nicolas Cage','Robert De Niro','Bruce Willis','Clint Eastwood','Johnny Depp']\n",
    "nicolas=df.query('cast in @  cast_names').groupby('cast')['popularity'].mean()\n",
    "nicolas.plot(kind='bar',alpha=0.7)\n",
    "plt.xlabel('cast_name',fontsize=18)\n",
    "plt.ylabel('popularity',fontsize=18)\n",
    "plt.show()"
   ]
  },
  {
   "cell_type": "markdown",
   "metadata": {},
   "source": [
    "<a id='conclusions'></a>\n",
    "## Conclusions\n",
    "\n",
    "> Conclusions\n",
    "The goal in the research is primary to explore three parts of questions:\n",
    "\n",
    ">Part one: Find the quantitative features that are associated with Successful Movies\n",
    "\n",
    ">At part one, I explored some general questions. The result showed that the movie popularity increased by years. \n",
    "The movie with higher budget level and revenue level received higher popularity. But the rating is not affected by the budget and revenue. So I looked at the relation between popularity and rating. The result showed that the movies with higher rating are more popular. the runtime does not affect people's rating. But the movie with either short runtime or long runtime receives higher popularity.\n",
    "\n",
    ">Part two:  Find the categorical features that are associated with Successful Movies\n",
    "\n",
    ">At this part, I find that the most popular movie type at different revenue and rating level are drama, comedy, and action. Drama received the highest voting, and Action get the highest revenue. Also, I find the most active cast are Nicolas Cage,Robert De Niro,Bruce Willis. Althogh Johnny Depp produced less movie, but his movies receive the highest rating. \n",
    "\n"
   ]
  },
  {
   "cell_type": "code",
   "execution_count": null,
   "metadata": {
    "collapsed": true
   },
   "outputs": [],
   "source": []
  }
 ],
 "metadata": {
  "kernelspec": {
   "display_name": "Python 3",
   "language": "python",
   "name": "python3"
  },
  "language_info": {
   "codemirror_mode": {
    "name": "ipython",
    "version": 3
   },
   "file_extension": ".py",
   "mimetype": "text/x-python",
   "name": "python",
   "nbconvert_exporter": "python",
   "pygments_lexer": "ipython3",
   "version": "3.6.1"
  }
 },
 "nbformat": 4,
 "nbformat_minor": 2
}
